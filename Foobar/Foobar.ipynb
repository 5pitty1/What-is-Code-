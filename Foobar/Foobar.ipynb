{
 "cells": [
  {
   "cell_type": "code",
   "execution_count": 46,
   "metadata": {},
   "outputs": [],
   "source": [
    "import numpy as np\n",
    "from itertools import product, permutations\n",
    "from tqdm.notebook import tqdm\n",
    "from multiprocessing import Pool\n",
    "from math import gcd, factorial\n",
    "from collections import Counter\n",
    "from numpy import prod\n",
    "import operator as op\n",
    "from functools import reduce\n",
    "\n",
    "m = 3\n",
    "n = 5\n",
    "s = 2\n",
    "\n",
    "x = product([i for i in range(s)], repeat=m*n)\n",
    "x = np.reshape(list(x), (-1, m, n))\n",
    "x = [np.array(matrix) for matrix in x]\n",
    "\n",
    "rowCombos = list(permutations([[1 if j == i else 0 for j in range(m)] for i in range(m)]))\n",
    "rowCombos = [np.array(matrix) for matrix in rowCombos]\n",
    "\n",
    "colCombos = list(permutations([[1 if j == i else 0 for j in range(n)] for i in range(n)]))\n",
    "colCombos = [np.array(matrix) for matrix in colCombos]\n",
    "\n",
    "sample = np.array([i for i in range(1,m*n+1)])\n",
    "sample = np.reshape(sample, (m, n))"
   ]
  },
  {
   "cell_type": "code",
   "execution_count": 2,
   "metadata": {},
   "outputs": [],
   "source": [
    "def getTransformations(numRowChanges, numColChanges):\n",
    "    transformations = []\n",
    "    for rowTransform in rowCombos:\n",
    "        for colTransform in colCombos:\n",
    "            changedRows = sum([rowTransform[i][i] != 1 for i in range(len(rowTransform))])\n",
    "            changedCols = sum([colTransform[i][i] != 1 for i in range(len(colTransform))])\n",
    "            if changedRows == numRowChanges and changedCols == numColChanges:\n",
    "                transformations.append((rowTransform, colTransform))\n",
    "    return transformations\n",
    "\n",
    "def getValid(rowTransform, colTransform):\n",
    "    transform = lambda matrix: rowTransform.dot(matrix.dot(colTransform))\n",
    "    \n",
    "    validList = []\n",
    "    for matrix in x:\n",
    "        if (matrix == transform(matrix)).all():\n",
    "            validList.append(matrix)\n",
    "            \n",
    "    return validList\n",
    "\n",
    "def getNumValid(rowTransform, colTransform):\n",
    "    transform = lambda matrix: rowTransform.dot(matrix.dot(colTransform))\n",
    "    \n",
    "    count = 0\n",
    "    for matrix in x:\n",
    "        if (matrix == transform(matrix)).all():\n",
    "            count += 1\n",
    "\n",
    "    return count\n",
    "    \n",
    "def printValid(rowTransform, colTransform):\n",
    "    transform = lambda matrix: rowTransform.dot(matrix.dot(colTransform))\n",
    "    \n",
    "    print(\"VALID MATRICES\")\n",
    "    count = 0\n",
    "    for matrix in x:\n",
    "        if (matrix == transform(matrix)).all():\n",
    "            print(matrix)\n",
    "            print()"
   ]
  },
  {
   "cell_type": "code",
   "execution_count": 3,
   "metadata": {},
   "outputs": [
    {
     "name": "stdout",
     "output_type": "stream",
     "text": [
      "Total number of states: 32768\n",
      "\n",
      "Number of row transformations: 6\n",
      "Number of column transformations: 120\n",
      "Total Number of transformations: 720\n"
     ]
    }
   ],
   "source": [
    "print(f'Total number of states: {2**(m*n)}')\n",
    "print()\n",
    "print(f'Number of row transformations: {len(rowCombos)}')\n",
    "print(f'Number of column transformations: {len(colCombos)}')\n",
    "print(f'Total Number of transformations: {len(colCombos)*len(rowCombos)}')"
   ]
  },
  {
   "cell_type": "code",
   "execution_count": 12,
   "metadata": {},
   "outputs": [
    {
     "data": {
      "application/vnd.jupyter.widget-view+json": {
       "model_id": "eda2fbae5262493bb62fc887229830b6",
       "version_major": 2,
       "version_minor": 0
      },
      "text/plain": [
       "HBox(children=(FloatProgress(value=0.0, max=6.0), HTML(value='')))"
      ]
     },
     "metadata": {},
     "output_type": "display_data"
    },
    {
     "name": "stdout",
     "output_type": "stream",
     "text": [
      "(changedRows, changedCols): {numValidForTransformation: ApplicableTransformations, ...}\n",
      "\n"
     ]
    },
    {
     "data": {
      "text/plain": [
       "{(0, 0): {32768: 1},\n",
       " (0, 2): {4096: 10},\n",
       " (0, 3): {512: 20},\n",
       " (0, 4): {512: 15, 64: 30},\n",
       " (0, 5): {64: 20, 8: 24},\n",
       " (2, 0): {1024: 3},\n",
       " (2, 2): {512: 30},\n",
       " (2, 3): {64: 60},\n",
       " (2, 4): {256: 45, 32: 90},\n",
       " (2, 5): {32: 60, 4: 72},\n",
       " (3, 0): {32: 2},\n",
       " (3, 2): {16: 20},\n",
       " (3, 3): {32: 40},\n",
       " (3, 4): {8: 30, 4: 60},\n",
       " (3, 5): {16: 40, 2: 48}}"
      ]
     },
     "execution_count": 12,
     "metadata": {},
     "output_type": "execute_result"
    }
   ],
   "source": [
    "uniqueMap = {}\n",
    "\n",
    "def parseTransform(rowTransform, colTransform):\n",
    "    changedRows = sum([rowTransform[i][i] != 1 for i in range(len(rowTransform))])\n",
    "    changedCols = sum([colTransform[i][i] != 1 for i in range(len(colTransform))])\n",
    "    \n",
    "    return ((changedRows, changedCols), getNumValid(rowTransform, colTransform))\n",
    "\n",
    "p = Pool()\n",
    "\n",
    "with tqdm(total=len(rowCombos)) as pbar:\n",
    "    print(\"(changedRows, changedCols): {numValidForTransformation: ApplicableTransformations, ...}\")\n",
    "    for rowTransform in rowCombos:\n",
    "        result = p.starmap(parseTransform, product([rowTransform], colCombos))\n",
    "        for changed, numValid in result:\n",
    "            if changed not in uniqueMap:\n",
    "                uniqueMap[changed] = {}\n",
    "            if numValid not in uniqueMap[changed]:\n",
    "                uniqueMap[changed][numValid] = 0\n",
    "            uniqueMap[changed][numValid] += 1\n",
    "        pbar.update(1)\n",
    "        \n",
    "#         for colTransform in colCombos:\n",
    "#             changedRows = sum([rowTransform[i][i] != 1 for i in range(len(rowTransform))])\n",
    "#             changedCols = sum([colTransform[i][i] != 1 for i in range(len(colTransform))])\n",
    "#             if (changedRows, changedCols) not in uniqueMap:\n",
    "#                 uniqueMap[(changedRows, changedCols)] = set()\n",
    "#             uniqueMap[(changedRows, changedCols)].add(getNumValid(rowTransform, colTransform))\n",
    "#             pbar.update(1)\n",
    "        \n",
    "uniqueMap"
   ]
  },
  {
   "cell_type": "code",
   "execution_count": 87,
   "metadata": {},
   "outputs": [
    {
     "data": {
      "application/vnd.jupyter.widget-view+json": {
       "model_id": "17f51a0966044ede849beb3d1f90e34d",
       "version_major": 2,
       "version_minor": 0
      },
      "text/plain": [
       "HBox(children=(FloatProgress(value=0.0, max=88.0), HTML(value='')))"
      ]
     },
     "metadata": {},
     "output_type": "display_data"
    },
    {
     "name": "stdout",
     "output_type": "stream",
     "text": [
      "\n"
     ]
    }
   ],
   "source": [
    "transformations = getTransformations(3,5)\n",
    "transformationMap = {}\n",
    "for rowTransform, colTransform in tqdm(transformations):\n",
    "    numFixed = getNumValid(rowTransform, colTransform)\n",
    "    if numFixed not in transformationMap:\n",
    "        transformationMap[numFixed] = []\n",
    "    transformationMap[numFixed].append((rowTransform, colTransform))"
   ]
  },
  {
   "cell_type": "code",
   "execution_count": 90,
   "metadata": {},
   "outputs": [
    {
     "name": "stdout",
     "output_type": "stream",
     "text": [
      "[[ 1  2  3  4  5]\n",
      " [ 6  7  8  9 10]\n",
      " [11 12 13 14 15]]\n",
      "[[ 7  6 10  8  9]\n",
      " [12 11 15 13 14]\n",
      " [ 2  1  5  3  4]]\n",
      "VALID MATRICES\n",
      "[[0 0 0 0 0]\n",
      " [0 0 0 0 0]\n",
      " [0 0 0 0 0]]\n",
      "\n",
      "[[0 0 0 0 1]\n",
      " [0 0 0 1 0]\n",
      " [0 0 1 0 0]]\n",
      "\n",
      "[[0 0 0 1 0]\n",
      " [0 0 1 0 0]\n",
      " [0 0 0 0 1]]\n",
      "\n",
      "[[0 0 0 1 1]\n",
      " [0 0 1 1 0]\n",
      " [0 0 1 0 1]]\n",
      "\n",
      "[[0 0 1 0 0]\n",
      " [0 0 0 0 1]\n",
      " [0 0 0 1 0]]\n",
      "\n",
      "[[0 0 1 0 1]\n",
      " [0 0 0 1 1]\n",
      " [0 0 1 1 0]]\n",
      "\n",
      "[[0 0 1 1 0]\n",
      " [0 0 1 0 1]\n",
      " [0 0 0 1 1]]\n",
      "\n",
      "[[0 0 1 1 1]\n",
      " [0 0 1 1 1]\n",
      " [0 0 1 1 1]]\n",
      "\n",
      "[[1 1 0 0 0]\n",
      " [1 1 0 0 0]\n",
      " [1 1 0 0 0]]\n",
      "\n",
      "[[1 1 0 0 1]\n",
      " [1 1 0 1 0]\n",
      " [1 1 1 0 0]]\n",
      "\n",
      "[[1 1 0 1 0]\n",
      " [1 1 1 0 0]\n",
      " [1 1 0 0 1]]\n",
      "\n",
      "[[1 1 0 1 1]\n",
      " [1 1 1 1 0]\n",
      " [1 1 1 0 1]]\n",
      "\n",
      "[[1 1 1 0 0]\n",
      " [1 1 0 0 1]\n",
      " [1 1 0 1 0]]\n",
      "\n",
      "[[1 1 1 0 1]\n",
      " [1 1 0 1 1]\n",
      " [1 1 1 1 0]]\n",
      "\n",
      "[[1 1 1 1 0]\n",
      " [1 1 1 0 1]\n",
      " [1 1 0 1 1]]\n",
      "\n",
      "[[1 1 1 1 1]\n",
      " [1 1 1 1 1]\n",
      " [1 1 1 1 1]]\n",
      "\n"
     ]
    }
   ],
   "source": [
    "transform = lambda matrix, rowTransform, colTransform: rowTransform.dot(matrix.dot(colTransform))\n",
    "\n",
    "rowTransform, colTransform = transformationMap[16][0]\n",
    "# print(getNumValid(rowTransform, colTransform))\n",
    "# print(len(transformationMap[256]))\n",
    "print(sample)\n",
    "print(transform(sample, rowTransform, colTransform))\n",
    "\n",
    "printValid(rowTransform, colTransform)\n"
   ]
  },
  {
   "cell_type": "code",
   "execution_count": 7,
   "metadata": {},
   "outputs": [],
   "source": [
    "def partitions(n):\n",
    "    if n == 1:\n",
    "        return [[1]]\n",
    "    \n",
    "    result = [[n]]\n",
    "    for i in range(1, n):\n",
    "        temp = partitions(n - i)\n",
    "        result += [p + [i] for p in temp]\n",
    "        \n",
    "    return result"
   ]
  },
  {
   "cell_type": "code",
   "execution_count": 8,
   "metadata": {},
   "outputs": [
    {
     "data": {
      "text/plain": [
       "2048"
      ]
     },
     "execution_count": 8,
     "metadata": {},
     "output_type": "execute_result"
    }
   ],
   "source": [
    "len(partitions(12))"
   ]
  },
  {
   "cell_type": "code",
   "execution_count": 159,
   "metadata": {},
   "outputs": [
    {
     "data": {
      "text/plain": [
       "{(0, 0): {32768: 1},\n",
       " (0, 2): {4096: 10},\n",
       " (0, 3): {512: 20},\n",
       " (0, 4): {512: 15, 64: 30},\n",
       " (0, 5): {64: 20, 8: 24},\n",
       " (2, 0): {1024: 3},\n",
       " (2, 2): {512: 30},\n",
       " (2, 3): {64: 60},\n",
       " (2, 4): {256: 45, 32: 90},\n",
       " (2, 5): {32: 60, 4: 72},\n",
       " (3, 0): {32: 2},\n",
       " (3, 2): {16: 20},\n",
       " (3, 3): {32: 40},\n",
       " (3, 4): {8: 30, 4: 60},\n",
       " (3, 5): {16: 40, 2: 48}}"
      ]
     },
     "execution_count": 159,
     "metadata": {},
     "output_type": "execute_result"
    }
   ],
   "source": [
    "def getPartitions(target, maxValue, partition):\n",
    "    if target == 0:\n",
    "        return [partition]\n",
    "\n",
    "    result = []\n",
    "    if maxValue > 1:\n",
    "        result += getPartitions(target, maxValue-1, partition)\n",
    "    if maxValue <= target:\n",
    "        result += getPartitions(target-maxValue, maxValue, (maxValue,) + partition)\n",
    "        \n",
    "    return result\n",
    "\n",
    "def getPermutations(rowPartition, colPartition):\n",
    "    total = 0\n",
    "    for colGroup in colPartition:\n",
    "        for rowGroup in rowPartition:\n",
    "            total += gcd(colGroup, rowGroup)\n",
    "            \n",
    "    return s**total\n",
    "\n",
    "def getDerangements(n):\n",
    "    if n == 1: \n",
    "        return 0\n",
    "    if n == 0 or n == 2:\n",
    "        return 1\n",
    "    \n",
    "    return (n-1) * (getDerangements(n-1) + getDerangements(n-2))\n",
    "\n",
    "derangements = [getDerangements(i) for i in range(max(m,n) + 1)]\n",
    "\n",
    "def ncr(n, r):\n",
    "    r = min(r, n-r)\n",
    "    numer = reduce(op.mul, range(n, n-r, -1), 1)\n",
    "    denom = reduce(op.mul, range(1, r+1), 1)\n",
    "    return numer // denom  # or / in Python 2\n",
    "\n",
    "def getNumTransformations(rowPartition, colPartition):\n",
    "    total = 1\n",
    "    \n",
    "    rowDuplicates = {}\n",
    "    numRows = m\n",
    "    for rowGroup in rowPartition:\n",
    "        if rowGroup != 1:\n",
    "            total *= ncr(numRows, rowGroup) * factorial(rowGroup-1)\n",
    "            if rowGroup not in rowDuplicates:\n",
    "                rowDuplicates[rowGroup] = 0\n",
    "            rowDuplicates[rowGroup] += 1\n",
    "            numRows -= rowGroup\n",
    "\n",
    "    for val in rowDuplicates.values():\n",
    "        total //= factorial(val)\n",
    "            \n",
    "    colDuplicates = {}\n",
    "    numCols = n\n",
    "    for colGroup in colPartition:\n",
    "        if colGroup != 1:\n",
    "            total *= ncr(numCols, colGroup) * factorial(colGroup-1)\n",
    "            if colGroup not in colDuplicates:\n",
    "                colDuplicates[colGroup] = 0\n",
    "            colDuplicates[colGroup] += 1\n",
    "\n",
    "            numCols -= colGroup\n",
    "            \n",
    "    for val in colDuplicates.values():\n",
    "        total //= factorial(val)\n",
    "\n",
    "\n",
    "    return total\n",
    "        \n",
    "uniqueMap"
   ]
  },
  {
   "cell_type": "code",
   "execution_count": 165,
   "metadata": {},
   "outputs": [
    {
     "data": {
      "text/plain": [
       "5929"
      ]
     },
     "execution_count": 165,
     "metadata": {},
     "output_type": "execute_result"
    }
   ],
   "source": [
    "m = 12\n",
    "n = 12\n",
    "s = 20\n",
    "rowPartitions = getPartitions(m, m, ())\n",
    "colPartitions = getPartitions(n, n, ())\n",
    "\n",
    "partitionMap = {}\n",
    "for rowPartition in rowPartitions:\n",
    "    for colPartition in colPartitions:\n",
    "        partitionMap[(rowPartition, colPartition)] = (getPermutations(rowPartition, colPartition), getNumTransformations(rowPartition, colPartition))\n",
    "        \n",
    "len(partitionMap)"
   ]
  },
  {
   "cell_type": "code",
   "execution_count": 166,
   "metadata": {},
   "outputs": [
    {
     "data": {
      "text/plain": [
       "97195340925396730736950973830781340249131679073592360856141700148734207997877978005419735822878768821088343977969209139721682171487959967012286474628978470487193051591840"
      ]
     },
     "execution_count": 166,
     "metadata": {},
     "output_type": "execute_result"
    }
   ],
   "source": [
    "total = 0\n",
    "for numStates, numTransformations in partitionMap.values():\n",
    "    total += numStates * numTransformations\n",
    "\n",
    "total //= factorial(m)*factorial(n)\n",
    "total"
   ]
  },
  {
   "cell_type": "code",
   "execution_count": 126,
   "metadata": {},
   "outputs": [
    {
     "name": "stdout",
     "output_type": "stream",
     "text": [
      "ncr(5, 5) * derangements[5]\n"
     ]
    },
    {
     "data": {
      "text/plain": [
       "44"
      ]
     },
     "execution_count": 126,
     "metadata": {},
     "output_type": "execute_result"
    }
   ],
   "source": [
    "getNumTransformations((1, 1, 1), (5,))"
   ]
  },
  {
   "cell_type": "code",
   "execution_count": 127,
   "metadata": {},
   "outputs": [
    {
     "name": "stdout",
     "output_type": "stream",
     "text": [
      "ncr(5, 2) * derangements[2]\n",
      "ncr(3, 3) * derangements[3]\n"
     ]
    },
    {
     "data": {
      "text/plain": [
       "20"
      ]
     },
     "execution_count": 127,
     "metadata": {},
     "output_type": "execute_result"
    }
   ],
   "source": [
    "getNumTransformations((1, 1, 1), (2, 3))"
   ]
  },
  {
   "cell_type": "code",
   "execution_count": 138,
   "metadata": {},
   "outputs": [
    {
     "name": "stdout",
     "output_type": "stream",
     "text": [
      "(2, 3)\n",
      "(5,)\n"
     ]
    }
   ],
   "source": [
    "for partition in getPartitions(5, 5, ()):\n",
    "    if sum([i if i != 1 else 0 for i in partition]) == 5:\n",
    "        print(partition)"
   ]
  },
  {
   "cell_type": "code",
   "execution_count": null,
   "metadata": {},
   "outputs": [],
   "source": []
  },
  {
   "cell_type": "code",
   "execution_count": null,
   "metadata": {},
   "outputs": [],
   "source": []
  },
  {
   "cell_type": "code",
   "execution_count": 48,
   "metadata": {},
   "outputs": [],
   "source": [
    "import base64\n",
    "import binascii\n",
    "\n",
    "encrypted = \"\"\"Fk4QHhEGCBYXTk1TQ0wVFwgEEE5BSUQIHQkBAAUOGAxES0hFSgAXHQgMDg4WQkFFQwwLDwwZBhZK\n",
    "RV5JSgANCAAACQwGBQhOT0tVBA4NDQwbDA4OHBFKRV5JShwNBx0GBgAATkFJRBkTBw8MEBpKSVlL\n",
    "VRYMAwFOQUlEDR0KSkVeSUoeCgVTQhA=\"\"\"\n",
    "\n",
    "decrypted = base64.b64decode(encrypted)\n"
   ]
  },
  {
   "cell_type": "code",
   "execution_count": 49,
   "metadata": {},
   "outputs": [],
   "source": [
    "f = open('example', 'w+b')\n",
    "f.write(decrypted)\n",
    "f.close()"
   ]
  },
  {
   "cell_type": "code",
   "execution_count": null,
   "metadata": {},
   "outputs": [],
   "source": []
  }
 ],
 "metadata": {
  "kernelspec": {
   "display_name": "Python 3",
   "language": "python",
   "name": "python3"
  },
  "language_info": {
   "codemirror_mode": {
    "name": "ipython",
    "version": 3
   },
   "file_extension": ".py",
   "mimetype": "text/x-python",
   "name": "python",
   "nbconvert_exporter": "python",
   "pygments_lexer": "ipython3",
   "version": "3.7.7"
  }
 },
 "nbformat": 4,
 "nbformat_minor": 4
}
